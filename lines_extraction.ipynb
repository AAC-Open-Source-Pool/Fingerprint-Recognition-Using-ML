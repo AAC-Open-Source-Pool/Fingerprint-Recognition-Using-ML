{
 "cells": [
  {
   "cell_type": "code",
   "execution_count": null,
   "metadata": {},
   "outputs": [],
   "source": [
    "#WORKINGGGGGGGG\n",
    "\n",
    "import cv2\n",
    "image = cv2.imread('fingerprint2.jpg')\n",
    "blurred = cv2.GaussianBlur(image, (7, 7), 9)\n",
    "gray = cv2.cvtColor(blurred, cv2.COLOR_BGR2GRAY)\n",
    "thresh = cv2.adaptiveThreshold(gray, 255,\n",
    "                            cv2.ADAPTIVE_THRESH_GAUSSIAN_C, cv2.THRESH_BINARY_INV, 71, 5)\n",
    "edges = cv2.Canny(thresh, 100, 200)\n",
    "\n",
    "contours, _ = cv2.findContours(\n",
    "    edges, cv2.RETR_EXTERNAL, cv2.CHAIN_APPROX_SIMPLE)\n",
    "\n",
    "output_image = image.copy()\n",
    "for contour in contours:\n",
    "    cv2.drawContours(output_image, [contour], -1, (0, 255, 0), 2)\n",
    "\n",
    "cv2.imwrite('highlighted_fingerprint2.jpg', output_image)\n",
    "cv2.imshow('Circle Edge', cv2.resize(output_image, (1000, 1000)))\n",
    "cv2.waitKey(0)\n",
    "cv2.destroyAllWindows()"
   ]
  }
 ],
 "metadata": {
  "language_info": {
   "name": "python"
  }
 },
 "nbformat": 4,
 "nbformat_minor": 2
}
