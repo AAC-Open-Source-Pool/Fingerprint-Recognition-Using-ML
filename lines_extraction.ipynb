{
 "cells": [
  {
   "cell_type": "code",
   "execution_count": 1,
   "metadata": {},
   "outputs": [],
   "source": [
    "#WORKINGGGGGGGG\n",
    "\n",
    "import cv2\n",
    "import numpy as np\n",
    "image = cv2.imread('fingerprint2.jpg')\n",
    "blurred = cv2.GaussianBlur(image, (7, 7), 9)\n",
    "gray = cv2.cvtColor(blurred, cv2.COLOR_BGR2GRAY)\n",
    "thresh = cv2.adaptiveThreshold(gray, 255,\n",
    "                            cv2.ADAPTIVE_THRESH_GAUSSIAN_C, cv2.THRESH_BINARY_INV, 71, 5)\n",
    "edges = cv2.Canny(thresh, 100, 200)\n",
    "\n",
    "contours, _ = cv2.findContours(\n",
    "    edges, cv2.RETR_EXTERNAL, cv2.CHAIN_APPROX_SIMPLE)\n",
    "\n",
    "output_image = image.copy()\n",
    "for contour in contours:\n",
    "    cv2.drawContours(output_image, [contour], -1, (0, 255, 0), 2)\n",
    "\n",
    "cv2.imwrite('highlighted_fingerprint2.jpg', output_image)\n",
    "cv2.imshow('Circle Edge', cv2.resize(output_image, (1000, 1000)))\n",
    "cv2.waitKey(0)\n",
    "cv2.destroyAllWindows()"
   ]
  },
  {
   "cell_type": "code",
   "execution_count": 9,
   "metadata": {},
   "outputs": [],
   "source": [
    "#WORKINGGGGGGGG version 2.0\n",
    "\n",
    "import cv2\n",
    "image = cv2.imread('library_fn_DATASET.BMP')\n",
    "blurred = cv2.GaussianBlur(image, (7, 7), 9)\n",
    "gray = cv2.cvtColor(blurred, cv2.COLOR_BGR2GRAY)\n",
    "thresh = cv2.adaptiveThreshold(gray, 255,\n",
    "                            cv2.ADAPTIVE_THRESH_GAUSSIAN_C, cv2.THRESH_BINARY_INV, 71, 5)\n",
    "edges = cv2.Canny(thresh, 100, 200) #                         ,5,True)\n",
    "\n",
    "contours, _ = cv2.findContours(\n",
    "    edges, cv2.RETR_EXTERNAL, cv2.CHAIN_APPROX_SIMPLE)\n",
    "\n",
    "#output_image = image.copy()\n",
    "\n",
    "output_image = cv2.imread(\"background_500_500.jpg\")\n",
    "\n",
    "\n",
    "for contour in contours:\n",
    "    #cv2.drawContours(output_image, [contour], -1, (0, 255, 0), 2)                      #GREEN\n",
    "    #cv2.drawContours(output_image, [contour], -1, (0, 0, 0), 2)                           #BLACK \n",
    "    cv2.drawContours(output_image, [contour], -1, (0, 255, 0), -1)                        #LINES FILL\n",
    "\n",
    "\n",
    "cv2.imwrite('ENHANCED_2.BMP', output_image)\n",
    "#cv2.imwrite('highlighted_fingerprint2.jpg',cv2.resize(output_image, (96, 96)))\n",
    "\n",
    "#cv2.imshow('Circle Edge', cv2.resize(output_image, (1000, 1000)))\n",
    "cv2.waitKey(0)\n",
    "cv2.destroyAllWindows()"
   ]
  },
  {
   "cell_type": "code",
   "execution_count": 7,
   "metadata": {},
   "outputs": [],
   "source": [
    "#WORKINGGGGGGGGGGG   ADD ON\n",
    "import fingerprint_enhancer\t\t\t\t\t\t\t\t# Load the library\n",
    "import cv2\n",
    "\n",
    "img = cv2.imread('ENHANCED.BMP', 0)\t\t\t\t\t\t# read input image\n",
    "out = fingerprint_enhancer.enhance_Fingerprint(img)\t\t# enhance the fingerprint image\n",
    "inverted_image = cv2.bitwise_not(out)\n",
    "\n",
    "cv2.imwrite('library_fn_DATASET.BMP', inverted_image)\n",
    "#cv2.imshow('enhanced_image', cv2.resize(inverted_image,(512,512)));\t\t\t\t\t\t# display the result\n",
    "cv2.waitKey(0)\t\n",
    "cv2.destroyAllWindows()"
   ]
  }
 ],
 "metadata": {
  "kernelspec": {
   "display_name": "Python 3",
   "language": "python",
   "name": "python3"
  },
  "language_info": {
   "codemirror_mode": {
    "name": "ipython",
    "version": 3
   },
   "file_extension": ".py",
   "mimetype": "text/x-python",
   "name": "python",
   "nbconvert_exporter": "python",
   "pygments_lexer": "ipython3",
   "version": "3.12.0"
  }
 },
 "nbformat": 4,
 "nbformat_minor": 2
}
