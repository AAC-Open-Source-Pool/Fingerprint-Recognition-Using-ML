{
 "cells": [
  {
   "cell_type": "code",
   "execution_count": 40,
   "metadata": {},
   "outputs": [],
   "source": [
    "#modules\n",
    "from keras.models import load_model\n"
   ]
  },
  {
   "cell_type": "code",
   "execution_count": 41,
   "metadata": {},
   "outputs": [
    {
     "name": "stderr",
     "output_type": "stream",
     "text": [
      "WARNING:absl:Compiled the loaded model, but the compiled metrics have yet to be built. `model.compile_metrics` will be empty until you train or evaluate the model.\n"
     ]
    }
   ],
   "source": [
    "MODEL = load_model(\"CNN_MODEL.h5\")\n"
   ]
  },
  {
   "cell_type": "code",
   "execution_count": 42,
   "metadata": {},
   "outputs": [],
   "source": [
    "import numpy as np\n",
    "import os\n",
    "import cv2\n",
    "from scipy.ndimage import convolve\n",
    "from keras.utils import to_categorical, plot_model\n",
    "import matplotlib.pyplot as plt"
   ]
  },
  {
   "cell_type": "code",
   "execution_count": 43,
   "metadata": {},
   "outputs": [],
   "source": [
    "img_size1, img_size2 = 96,96\n",
    "vertical_prewitt_filter = np.array([[-1,0,1],[-1,0,1],[-1,0,1]])\n",
    "horizontal_prewitt_filter = np.array([[-1,-1,-1],[0,0,0],[1,1,1]])\n",
    "def load_data(path, train=True):\n",
    "    print(\"Loading data from: \", path)\n",
    "    data = []\n",
    "    for img in os.listdir(path):\n",
    "        imgname, ext = os.path.splitext(img)\n",
    "        ID, etc = imgname.split('__')\n",
    "        ID = int(ID) - 1\n",
    "        if train:\n",
    "            _, lr, finger, _, _ = etc.split('_')\n",
    "        else:\n",
    "            _, lr, finger, _  = etc.split('_')\n",
    "        if lr=='Left':\n",
    "            base = 0\n",
    "        else: base  = 5\n",
    "        if finger==\"little\":\n",
    "            fingerNum = base + 0\n",
    "        elif finger=='ring':\n",
    "            fingerNum = base + 1\n",
    "        elif finger=='middle':\n",
    "            fingerNum = base + 2\n",
    "        elif finger=='index':\n",
    "            fingerNum = base + 3 \n",
    "        else: fingerNum = base + 4\n",
    "        img_array = cv2.imread(os.path.join(path, img), cv2.IMREAD_GRAYSCALE)\n",
    "        gauss_blur = cv2.GaussianBlur(img_array,(1,1),0)\n",
    "        _,th1 = cv2.threshold(gauss_blur,0,255,cv2.THRESH_BINARY+cv2.THRESH_OTSU)\n",
    "        convolved_img =  convolve(th1,vertical_prewitt_filter )\n",
    "        convolved_img =  convolve(convolved_img,horizontal_prewitt_filter )\n",
    "        img_resize = cv2.resize(img_array, (img_size1, img_size2))\n",
    "        data.append([ID, fingerNum, img_resize])\n",
    "    return data"
   ]
  },
  {
   "cell_type": "code",
   "execution_count": 44,
   "metadata": {},
   "outputs": [
    {
     "name": "stdout",
     "output_type": "stream",
     "text": [
      "Loading data from:  C:\\ONE_DRIVE_DATA\\Desktop\\GRIET\\AAC\\PROJECT\\INPUT\\TEST\\USER_INP\n"
     ]
    }
   ],
   "source": [
    "user_path = \"C:\\\\ONE_DRIVE_DATA\\\\Desktop\\\\GRIET\\\\AAC\\\\PROJECT\\\\INPUT\\\\TEST\\\\USER_INP\"\n",
    "user_data = load_data(user_path, train=True)"
   ]
  },
  {
   "cell_type": "code",
   "execution_count": 45,
   "metadata": {},
   "outputs": [
    {
     "name": "stdout",
     "output_type": "stream",
     "text": [
      "Loading data from:  C:\\ONE_DRIVE_DATA\\Desktop\\GRIET\\AAC\\PROJECT\\INPUT\\TEST\\DB\n"
     ]
    }
   ],
   "source": [
    "DB_path = \"C:\\\\ONE_DRIVE_DATA\\\\Desktop\\\\GRIET\\\\AAC\\\\PROJECT\\\\INPUT\\\\TEST\\\\DB\"\n",
    "db_datas = load_data(DB_path,train = False)"
   ]
  },
  {
   "cell_type": "code",
   "execution_count": 46,
   "metadata": {},
   "outputs": [
    {
     "name": "stdout",
     "output_type": "stream",
     "text": [
      "[8, 8, array([[160, 158, 158, ...,   0,   0,   0],\n",
      "       [160, 105, 121, ...,   0,   0,   0],\n",
      "       [160, 105, 255, ...,   0,   0,   0],\n",
      "       ...,\n",
      "       [  0,   0,   0, ...,   0,   0,   0],\n",
      "       [  0,   0,   0, ...,   0,   0,   0],\n",
      "       [  0,   0,   0, ...,   0,   0,   0]], dtype=uint8)]\n",
      "[0. 0. 0. 0. 0. 0. 0. 0. 1. 0.]\n"
     ]
    }
   ],
   "source": [
    "#TRUE INPUT DATA\n",
    "img_size1, img_size2 = 96,96\n",
    "inp_data = user_data[5]\n",
    "print(inp_data)\n",
    "inp_features = np.array(inp_data[2]).reshape(-1, img_size1, img_size2, 1)\n",
    "inp_features = inp_features/255.0\n",
    "#print(inp_features)\n",
    "inp_id = to_categorical(inp_data[0],num_classes = 10) #to_categorical([db_data[0],], num_classes=600)\n",
    "print(inp_id)\n"
   ]
  },
  {
   "cell_type": "code",
   "execution_count": 47,
   "metadata": {},
   "outputs": [
    {
     "name": "stdout",
     "output_type": "stream",
     "text": [
      "\u001b[1m1/1\u001b[0m \u001b[32m━━━━━━━━━━━━━━━━━━━━\u001b[0m\u001b[37m\u001b[0m \u001b[1m0s\u001b[0m 132ms/step\n",
      "PREDICTED ID :  8\n",
      "DATABASE ID :  12\n",
      "DATABASE ID :  15\n",
      "DATABASE ID :  0\n",
      "DATABASE ID :  0\n",
      "DATABASE ID :  0\n",
      "DATABASE ID :  8\n",
      "Infomation confirm! Fingerprint matches: person Id 8\n"
     ]
    }
   ],
   "source": [
    "rand_fp_num = 0\n",
    "#plt.imshow(inp_features.reshape((906, 1577)), cmap ='gray')\n",
    "\n",
    "y_SubjectID_pred = MODEL.predict(inp_features)\n",
    "Id_pred = np.argmax(y_SubjectID_pred)\n",
    "\n",
    "print('PREDICTED ID : ',Id_pred)\n",
    "\n",
    "#print(y_SubjectID_pred)\n",
    "#print(y_SubjectID_test )\n",
    "\n",
    "dec = 0\n",
    "for db_data in db_datas:\n",
    "    db_features = np.array(db_data[2]).reshape(-1, 96, 96, 1)\n",
    "    db_features = db_features/255.0\n",
    "    db_ID = to_categorical([db_data[0],], num_classes=600)\n",
    "    y_SubjectID_test = db_ID\n",
    "    Id_real = np.argmax(y_SubjectID_test)\n",
    "    print('DATABASE ID : ',Id_real)\n",
    "    if Id_pred==Id_real:\n",
    "        print(\"Infomation confirm! Fingerprint matches: person Id\",Id_pred)\n",
    "\n",
    "        cv2.waitKey(0)\n",
    "        cv2.destroyAllWindows()\n",
    "\n",
    "        dec = 1\n",
    "        break\n",
    "if dec == 0 :\n",
    "    print(\"PERSON DOES NOT EXIST IN DATABASE\")\n",
    "\n"
   ]
  }
 ],
 "metadata": {
  "kernelspec": {
   "display_name": "Python 3",
   "language": "python",
   "name": "python3"
  },
  "language_info": {
   "codemirror_mode": {
    "name": "ipython",
    "version": 3
   },
   "file_extension": ".py",
   "mimetype": "text/x-python",
   "name": "python",
   "nbconvert_exporter": "python",
   "pygments_lexer": "ipython3",
   "version": "3.12.0"
  }
 },
 "nbformat": 4,
 "nbformat_minor": 2
}
