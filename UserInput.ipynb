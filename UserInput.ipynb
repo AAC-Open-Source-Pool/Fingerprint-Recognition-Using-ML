{
 "cells": [
  {
   "cell_type": "code",
   "execution_count": 1,
   "metadata": {},
   "outputs": [],
   "source": [
    "from keras.models import load_model\n",
    "import cv2\n",
    "import numpy as np\n",
    "from keras.utils import to_categorical\n",
    "import os\n",
    "from skimage.metrics import structural_similarity"
   ]
  },
  {
   "cell_type": "code",
   "execution_count": 128,
   "metadata": {},
   "outputs": [
    {
     "name": "stderr",
     "output_type": "stream",
     "text": [
      "WARNING:absl:Compiled the loaded model, but the compiled metrics have yet to be built. `model.compile_metrics` will be empty until you train or evaluate the model.\n",
      "WARNING:absl:Compiled the loaded model, but the compiled metrics have yet to be built. `model.compile_metrics` will be empty until you train or evaluate the model.\n",
      "WARNING:absl:Compiled the loaded model, but the compiled metrics have yet to be built. `model.compile_metrics` will be empty until you train or evaluate the model.\n"
     ]
    }
   ],
   "source": [
    "IdModel = load_model(\"IdModel.h5\")\n",
    "FingerModel = load_model(\"FingerModel.h5\")\n",
    "\n",
    "prevModel = load_model(\"CNN_MODEL.h5\")"
   ]
  },
  {
   "cell_type": "code",
   "execution_count": 67,
   "metadata": {},
   "outputs": [],
   "source": [
    "# user_img_input = r\"C:\\ONE_DRIVE_DATA\\Desktop\\GRIET\\AAC\\PROJECT\\INPUT\\TEST\\USER_INP\""
   ]
  },
  {
   "cell_type": "code",
   "execution_count": 174,
   "metadata": {},
   "outputs": [],
   "source": [
    "img_size = 96\n",
    "def load_data(path, train=True):\n",
    "    print(\"Loading data from: \", path)\n",
    "    data = []\n",
    "    for img in os.listdir(path):\n",
    "        img_array = cv2.imread(os.path.join(path, img), cv2.IMREAD_GRAYSCALE)\n",
    "\n",
    "        img_resize = cv2.resize(img_array, (img_size, img_size))\n",
    "        user_img = np.array(img_resize).reshape(-1, img_size, img_size, 1)\n",
    "        user_img = user_img/255.0\n",
    "\n",
    "        data.append([IdModel.predict(user_img), FingerModel.predict(user_img)])\n",
    "        \n",
    "    return data\n",
    "\n",
    "# def structural_sim(img1, img2):\n",
    "\n",
    "#   sim, diff = structural_similarity(img1, img2, full=True)\n",
    "#   return sim\n",
    "\n",
    "\n",
    "def checkSimilarity(inp_img , DB_img):\n",
    "    img00 = cv2.imread(inp_img, 0)\n",
    "    img01 = cv2.imread(DB_img, 0)\n",
    "    ssim , diff = structural_similarity(img00, img01, full=True)\n",
    "\n",
    "    #ssim = structural_sim(img00, img01) #1.0 means identical. Lower = not similar\n",
    "    #print(\"Similarity using SSIM is: \", ssim)\n",
    "    return ssim"
   ]
  },
  {
   "cell_type": "code",
   "execution_count": 158,
   "metadata": {},
   "outputs": [
    {
     "name": "stdout",
     "output_type": "stream",
     "text": [
      "0.9339162755361314\n",
      "Altered Easy   : None\n",
      "0.7366136566068879\n",
      "Altered Medium : None\n",
      "0.6432926160103971\n",
      "Altered Hard   : None\n"
     ]
    }
   ],
   "source": [
    "RI = r\"C:\\ONE_DRIVE_DATA\\Desktop\\GRIET\\AAC\\PROJECT\\INPUT\\SOCOFing\\Real\\1__M_Left_index_finger.BMP\"\n",
    "AE = r\"C:\\ONE_DRIVE_DATA\\Desktop\\GRIET\\AAC\\PROJECT\\INPUT\\SOCOFing\\Altered\\Altered-Easy\\1__M_Left_index_finger_CR.BMP\"\n",
    "AM = r\"C:\\ONE_DRIVE_DATA\\Desktop\\GRIET\\AAC\\PROJECT\\INPUT\\SOCOFing\\Altered\\Altered-Medium\\1__M_Left_index_finger_CR.BMP\"\n",
    "AH = r\"C:\\ONE_DRIVE_DATA\\Desktop\\GRIET\\AAC\\PROJECT\\INPUT\\SOCOFing\\Altered\\Altered-Hard\\1__M_Left_index_finger_CR.BMP\"\n",
    "\n",
    "# cv2.imshow(cv2.imread(RI),\"REAL IMAGE\")\n",
    "# cv2.waitKey(0)\n",
    "# cv2.destroyAllWindows()\n",
    "print(\"Altered Easy   :\",checkSimilarity(RI,AE))\n",
    "print(\"Altered Medium :\",checkSimilarity(RI,AM))\n",
    "print(\"Altered Hard   :\",checkSimilarity(RI,AH))"
   ]
  },
  {
   "cell_type": "code",
   "execution_count": 175,
   "metadata": {},
   "outputs": [
    {
     "name": "stdout",
     "output_type": "stream",
     "text": [
      "Loading data from:  C:\\ONE_DRIVE_DATA\\Desktop\\GRIET\\AAC\\PROJECT\\CODE\\SoCofing_Model\\Input\n",
      "\u001b[1m1/1\u001b[0m \u001b[32m━━━━━━━━━━━━━━━━━━━━\u001b[0m\u001b[37m\u001b[0m \u001b[1m0s\u001b[0m 33ms/step\n",
      "\u001b[1m1/1\u001b[0m \u001b[32m━━━━━━━━━━━━━━━━━━━━\u001b[0m\u001b[37m\u001b[0m \u001b[1m0s\u001b[0m 24ms/step\n",
      "Access Granted\n"
     ]
    }
   ],
   "source": [
    "img_size = 96\n",
    "user_id = 18 #int(input(\"Enter USER-ID : \"))\n",
    "\n",
    "user_img = r\"C:\\ONE_DRIVE_DATA\\Desktop\\GRIET\\AAC\\PROJECT\\CODE\\SoCofing_Model\\Input\"                                             #18__M_Left_middle_finger_CR.BMP\n",
    "DB_path = r'C:\\ONE_DRIVE_DATA\\Desktop\\GRIET\\AAC\\PROJECT\\INPUT\\SOCOFing\\Real'\n",
    "\n",
    "\n",
    "\n",
    "inp_data = load_data(user_img,train =True)\n",
    "\n",
    "\n",
    "#\"2__F_Right_little_finger.BMP\"\n",
    "Predicted_ID = np.argmax(inp_data[0][0]) + 1\n",
    "Predicted_Finger = np.argmax(inp_data[0][1])\n",
    "if Predicted_Finger > 4:\n",
    "    Predicted_Hand = \"Right\"\n",
    "else:\n",
    "    Predicted_Hand = \"Left\"\n",
    "fingers = [\"little\",\"ring\",\"middle\",\"index\",'thumb',\"little\",\"ring\",\"middle\",\"index\",'thumb']\n",
    "\n",
    "\n",
    "DB_paths  = [DB_path+ '\\\\' +str(Predicted_ID)+\"__\"+\"M_\"+Predicted_Hand+\"_\"+fingers[int(Predicted_Finger)]+\"_finger.BMP\", \n",
    "                DB_path +'\\\\' +str(Predicted_ID)+\"__\"+\"F_\"+Predicted_Hand+\"_\"+fingers[int(Predicted_Finger)]+\"_finger.BMP\"]\n",
    "\n",
    "if user_id == Predicted_ID:\n",
    "    DB_paths  = [DB_path+ '\\\\' +str(Predicted_ID)+\"__\"+\"M_\"+Predicted_Hand+\"_\"+fingers[int(Predicted_Finger)]+\"_finger.BMP\", \n",
    "                DB_path +str(Predicted_ID)+\"__\"+\"F_\"+Predicted_Hand+\"_\"+fingers[int(Predicted_Finger)]+\"_finger.BMP\"]\n",
    "    try:\n",
    "        if checkSimilarity(DB_paths[0],user_img+r\"\\InputImage.BMP\") > 0.6:\n",
    "            print(\"Access Granted\")\n",
    "        else:\n",
    "            print(\"Access Denied\")\n",
    "    except:\n",
    "        try:\n",
    "            if checkSimilarity(DB_paths[1],user_img+r\"\\InputImage.BMP\") > 0.6:\n",
    "                print(\"Access Granted\")\n",
    "            else:\n",
    "                print(\"Access Denied\")\n",
    "        except:\n",
    "            print(\"ERROR ACCESSING DB\")\n",
    "else:\n",
    "    print(\"Incorrect ID\")\n",
    "\n",
    "    \n",
    "    \n",
    "\n",
    "    \n"
   ]
  }
 ],
 "metadata": {
  "kernelspec": {
   "display_name": "Python 3",
   "language": "python",
   "name": "python3"
  },
  "language_info": {
   "codemirror_mode": {
    "name": "ipython",
    "version": 3
   },
   "file_extension": ".py",
   "mimetype": "text/x-python",
   "name": "python",
   "nbconvert_exporter": "python",
   "pygments_lexer": "ipython3",
   "version": "3.12.0"
  }
 },
 "nbformat": 4,
 "nbformat_minor": 2
}
