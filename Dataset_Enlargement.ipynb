{
 "cells": [
  {
   "cell_type": "code",
   "execution_count": 16,
   "metadata": {},
   "outputs": [],
   "source": [
    "import cv2\n",
    "import os"
   ]
  },
  {
   "cell_type": "code",
   "execution_count": 17,
   "metadata": {},
   "outputs": [],
   "source": [
    "def enlarge_data(inp_path , out_path):\n",
    "    for img_name in os.listdir(inp_path):\n",
    "        img = cv2.imread(inp_path+\"\\\\\"+img_name)\n",
    "        cv2.imwrite(out_path+\"\\\\\"+img_name+\".bmp\", cv2.resize(img,(512,512)))\n",
    "    cv2.waitKey(0)\n",
    "    cv2.destroyAllWindows()"
   ]
  },
  {
   "cell_type": "code",
   "execution_count": 18,
   "metadata": {},
   "outputs": [],
   "source": [
    "Altered_path = \"C:\\\\ONE_DRIVE_DATA\\\\Desktop\\\\GRIET\\\\AAC\\\\PROJECT\\\\INPUT\\\\SOCOFing\\\\Altered\\\\Altered-\"\n",
    "Real_path = \"C:\\\\ONE_DRIVE_DATA\\\\Desktop\\\\GRIET\\\\AAC\\\\PROJECT\\\\INPUT\\\\SOCOFing\\\\Real\"\n",
    "\n",
    "Altered_path_output = \"C:\\\\ONE_DRIVE_DATA\\\\Desktop\\\\GRIET\\\\AAC\\\\PROJECT\\\\INPUT\\\\SOCOFing_Resized\\\\Altered\\\\Altered-\"\n",
    "Real_path_output = \"C:\\\\ONE_DRIVE_DATA\\\\Desktop\\\\GRIET\\\\AAC\\\\PROJECT\\\\INPUT\\\\SOCOFing_Resized\\\\Real\"\n",
    "\n",
    "\n",
    "enlarge_data(Altered_path+'Easy', Altered_path_output+'Easy')\n",
    "enlarge_data(Altered_path+'Medium',  Altered_path_output+'Medium')\n",
    "enlarge_data(Altered_path+'Hard', Altered_path_output+'Hard')\n",
    "enlarge_data(Real_path, Real_path_output)"
   ]
  }
 ],
 "metadata": {
  "kernelspec": {
   "display_name": "Python 3",
   "language": "python",
   "name": "python3"
  },
  "language_info": {
   "codemirror_mode": {
    "name": "ipython",
    "version": 3
   },
   "file_extension": ".py",
   "mimetype": "text/x-python",
   "name": "python",
   "nbconvert_exporter": "python",
   "pygments_lexer": "ipython3",
   "version": "3.12.0"
  }
 },
 "nbformat": 4,
 "nbformat_minor": 2
}
